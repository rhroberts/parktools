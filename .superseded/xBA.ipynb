{
 "cells": [
  {
   "cell_type": "markdown",
   "metadata": {},
   "source": [
    "## Expected Batting Average\n",
    "\n",
    "### About\n",
    "\n",
    "- This project aims to replicate the MLB statcast advanced stat \"xBA\"\n",
    "\n",
    "### Goals\n",
    "\n",
    "1) Use supervised ML to predict whether a batted ball is a hit ot an out based on:\n",
    "    - Pitch velo\n",
    "    - Exit velo\n",
    "    - Launch angle\n",
    "    - Hit location\n",
    "    - Hit distance (in case HRs aren't given their own hit location?)\n",
    "    - Batter speed (maybe)\n",
    "    \n",
    "2) Find the *expected* batting average for a batter given the above parameters for each batted ball in play \n",
    "\n",
    "3) Compare results with statcast's xBA results\n",
    "\n",
    "### Data\n",
    "\n",
    "- Data gathered from baseball savant (statcast) search\n",
    "- Example search query to get all (?) batted balls resulting in outs in 2018 \n",
    "    - https://baseballsavant.mlb.com/statcast_search?hfPT=&hfAB=single%7Cdouble%7Ctriple%7Chome%5C.%5C.run%7Cfield%5C.%5C.out%7Cstrikeout%7Cstrikeout%5C.%5C.double%5C.%5C.play%7Cdouble%5C.%5C.play%7Cgrounded%5C.%5C.into%5C.%5C.double%5C.%5C.play%7Cfielders%5C.%5C.choice%7Cfielders%5C.%5C.choice%5C.%5C.out%7Cforce%5C.%5C.out%7Csac%5C.%5C.bunt%7Csac%5C.%5C.bunt%5C.%5C.double%5C.%5C.play%7Csac%5C.%5C.fly%7Csac%5C.%5C.fly%5C.%5C.double%5C.%5C.play%7Ctriple%5C.%5C.play%7C&hfBBT=&hfPR=&hfZ=&stadium=&hfBBL=&hfNewZones=&hfGT=R%7C&hfC=&hfSea=2018%7C&hfSit=&player_type=batter&hfOuts=&opponent=&pitcher_throws=&batter_stands=&hfSA=&game_date_gt=&game_date_lt=&hfInfield=&team=&position=&hfOutfield=&hfRO=&home_road=&hfFlag=&hfPull=&metric_1=&hfInn=&min_pitches=0&min_results=0&group_by=name&sort_col=pitches&player_event_sort=h_launch_speed&sort_order=desc&min_pas=0#results\n",
    "    - seems like this returns a maximum of 40,000 results\n",
    "- Data reference\n",
    "    - https://baseballsavant.mlb.com/csv-docs\n",
    "\n",
    "### Notes\n",
    "\n",
    "- My plan is to use 2018 results in the training/test sets to determine 2019 xBA results\n",
    "    - Need to think more about if this is the right strategy\n",
    "- Is it possible to get spray chart info for this?\n",
    "- Having hc_x and hc_y as two separate features doesn't really tell us much, we need the combination of the two as a vector:\n",
    "    - $ hc = \\sqrt{hc_y^2 + hc_x^2} \\tan(y/x) $\n",
    "    - ATTN: getting weird values here, need to plot to see if it makes sense"
   ]
  },
  {
   "cell_type": "code",
   "execution_count": 43,
   "metadata": {},
   "outputs": [],
   "source": [
    "import pandas as pd\n",
    "import numpy as np\n",
    "from sklearn.model_selection import train_test_split\n",
    "from sklearn.svm import LinearSVC\n",
    "from sklearn.preprocessing import StandardScaler, MinMaxScaler\n",
    "import matplotlib.pyplot as plt\n",
    "from mpl_toolkits.mplot3d import Axes3D\n",
    "%matplotlib inline\n",
    "\n",
    "def hc(x, y):\n",
    "    return(np.sqrt(x**2 + y**2)*np.tan(y/x))\n",
    "\n",
    "\n",
    "data = pd.read_csv('hits_outs_2018.csv')\n",
    "\n",
    "yt = data['hc_y'].max() - data['hc_y']\n",
    "\n",
    "data['hc_xt'] = xt[xt.notnull()].apply(int)\n",
    "data['hc_yt'] = yt[yt.notnull()].apply(int)\n",
    "\n",
    "fig, ax = plt.subplots(1, 2, figsize=(18,6))\n",
    "\n",
    "ax[0].scatter(x, y, s=0.01)\n",
    "ax[1].scatter(xx, yy, s=0.01)\n",
    "\n",
    "data['hc_xt'].\n",
    "# fig = plt.figure(figsize=(9,6))\n",
    "# ax = fig.add_subplot(111, projection='3d')\n",
    "# ax.scatter(xs=x, ys=y, zs=y2, s=0.1)\n",
    "\n",
    "# x = data['hc_x'] - 125.42\n",
    "# y = 198.27 - data['hc_y']\n",
    "x = data['hc_x']\n",
    "y = data['hc_y']\n",
    "\n",
    "xt = data['hc_x'] - data['hc_x'].min()\n",
    "\n",
    "# Note: HR and ground rule doubles have hit_location=NaN, change to over_fence\n",
    "# data['events'][(data['hit_location'].isnull()) & (data['hit'] == 1)].value_counts()\n",
    "data['over_fence'] = (data['hit_location'].isnull()) & (data['hit'] == 1)\n",
    "\n",
    "# get *actual* hit location in polar coordinates\n",
    "# see https://baseballwithr.wordpress.com/2018/01/15/chance-of-hit-as-function-of-launch-angle-exit-velocity-and-spray-angle/\n",
    "# for info about the transformations hc_x - 125.42, y - 198.27\n",
    "data['hc'] = hc(data['hc_x'] - 125.42, 198.27 - data['hc_y'])\n",
    "\n",
    "positions = ['pos_1', 'pos_2', 'pos_3', 'pos_4', 'pos_5', 'pos_6','pos_7', 'pos_8', 'pos_9']\n",
    "\n",
    "# separate hit_location into separate fepatures\n",
    "i = 1\n",
    "for pos in positions:\n",
    "    data[pos] = data['hit_location'] == i\n",
    "    i += 1\n",
    "\n",
    "data = data[\n",
    "    [\n",
    "        'release_speed', 'release_spin_rate', 'hc_x', 'hc_y',\n",
    "        'launch_speed', 'launch_angle', 'hit_distance_sc',\n",
    "        'pos_1', 'pos_2', 'pos_3', 'pos_4', 'pos_5', 'pos_6',\n",
    "        'pos_7', 'pos_8', 'pos_9', 'over_fence',\n",
    "        'hit'\n",
    "    ]\n",
    "].dropna()\n",
    "\n",
    "X = data.drop('hit', axis=1)\n",
    "y = data['hit']\n",
    "\n",
    "# scale data\n",
    "scaler = MinMaxScaler()\n",
    "scaler.fit(X)\n",
    "X = pd.DataFrame(scaler.transform(X), columns=data.drop('hit', axis=1).columns)\n",
    "# X = pd.DataFrame(X, columns=data.drop('hit', axis=1).columns)\n",
    "\n",
    "X.describe()"
   ]
  },
  {
   "cell_type": "code",
   "execution_count": 44,
   "metadata": {},
   "outputs": [
    {
     "name": "stdout",
     "output_type": "stream",
     "text": [
      "Accuracy of Linear SVC classifier on training set: 0.76\n",
      "Accuracy of Linear SVC classifier on test set: 0.76\n",
      "\n",
      "Coefficients: \n",
      "[[-0.15965515 -0.031682    0.24363443  0.10114727 -1.95162981 -0.33318871\n",
      "   0.05866753  0.56513669 -0.12123883  0.04026703  0.03296147  0.09360727\n",
      "   1.25817671  1.19563104  1.23614443  2.27906772]]\n"
     ]
    }
   ],
   "source": [
    "# split up data into 75% train, 25% test\n",
    "X_train, X_test, y_train, y_test = train_test_split(\n",
    "    X, y, random_state = 13\n",
    ")\n",
    "\n",
    "clf = LinearSVC().fit(X_train, y_train)\n",
    "\n",
    "print('Accuracy of Linear SVC classifier on training set: {:.2f}'\n",
    "     .format(clf.score(X_train, y_train)))\n",
    "print('Accuracy of Linear SVC classifier on test set: {:.2f}'\n",
    "     .format(clf.score(X_test, y_test)))\n",
    "print('\\nCoefficients: ')\n",
    "print(clf.coef_)"
   ]
  },
  {
   "cell_type": "code",
   "execution_count": 25,
   "metadata": {},
   "outputs": [
    {
     "data": {
      "text/plain": [
       "array([1])"
      ]
     },
     "execution_count": 25,
     "metadata": {},
     "output_type": "execute_result"
    }
   ],
   "source": [
    "# z = [release_speed, release_spin_rate, launch_speed, launch_angle, hit_distance, pos_1, ... , pos_9, over_fence]\n",
    "z = [0.8, 0.8, 0.7, 0.9, 0.6, 0, 0, 0, 0, 0, 0, 0, 0, 1, 0]\n",
    "clf.predict([z])"
   ]
  }
 ],
 "metadata": {
  "kernelspec": {
   "display_name": "Python 3",
   "language": "python",
   "name": "python3"
  },
  "language_info": {
   "codemirror_mode": {
    "name": "ipython",
    "version": 3
   },
   "file_extension": ".py",
   "mimetype": "text/x-python",
   "name": "python",
   "nbconvert_exporter": "python",
   "pygments_lexer": "ipython3",
   "version": "3.6.8"
  },
  "varInspector": {
   "cols": {
    "lenName": 16,
    "lenType": 16,
    "lenVar": 40
   },
   "kernels_config": {
    "python": {
     "delete_cmd_postfix": "",
     "delete_cmd_prefix": "del ",
     "library": "var_list.py",
     "varRefreshCmd": "print(var_dic_list())"
    },
    "r": {
     "delete_cmd_postfix": ") ",
     "delete_cmd_prefix": "rm(",
     "library": "var_list.r",
     "varRefreshCmd": "cat(var_dic_list()) "
    }
   },
   "types_to_exclude": [
    "module",
    "function",
    "builtin_function_or_method",
    "instance",
    "_Feature"
   ],
   "window_display": false
  }
 },
 "nbformat": 4,
 "nbformat_minor": 2
}
